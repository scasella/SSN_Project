{
 "cells": [
  {
   "cell_type": "code",
   "execution_count": 1,
   "metadata": {},
   "outputs": [],
   "source": [
    "import pytesseract\n",
    "import cv2\n",
    "from io import BytesIO\n",
    "import numpy\n",
    "import re\n",
    "import PyPDF2\n",
    "import os, os.path\n",
    "try:\n",
    "    import Image\n",
    "except ImportError:\n",
    "    from PIL import Image"
   ]
  },
  {
   "cell_type": "code",
   "execution_count": 7,
   "metadata": {},
   "outputs": [],
   "source": [
    "def formatSSN(ssn):\n",
    "    tempList = []\n",
    "    for val in ssn:\n",
    "        #Format all SSNs to XXX-XX-XXXX\n",
    "        tempList.append(val[:3]+'-'+val[4:6]+'-'+val[7:11])\n",
    "    return tempList\n",
    "\n",
    "\n",
    "def checkDict(ssnDict,outList,outFilename):\n",
    "    for ssn in outList:\n",
    "        if ssn in ssnDict:\n",
    "            ssnDict[ssn].append(outFilename)\n",
    "        else:\n",
    "            ssnDict[ssn] = [outFilename]\n",
    "    return ssnDict"
   ]
  },
  {
   "cell_type": "code",
   "execution_count": 3,
   "metadata": {},
   "outputs": [],
   "source": [
    "def passFolder(path):\n",
    "    #Initialize SSN Regex Query\n",
    "    ssnRE = re.compile('[0-9][0-9][0-9].[0-9][0-9].[0-9][0-9][0-9][0-9]', re.MULTILINE|re.DOTALL)\n",
    "    ssnDict = {}\n",
    "    \n",
    "    for f in os.listdir(path):\n",
    "        ext = os.path.splitext(f)[1]\n",
    "        if ext.lower() in ['.jpg','.png']:\n",
    "            #Func outputs list of found SSNs and the str(filename)\n",
    "            outList, outFilename = doJPGPNG(os.path.join(path,f),(ext.lower() is '.png'),ssnRE)\n",
    "            ssnDict = checkDict(ssnDict,outList,outFilename)\n",
    "        elif ext.lower() in ['.pdf']:\n",
    "            outList, outFilename = doPDF(os.path.join(path,f),ssnRE)\n",
    "            ssnDict = checkDict(ssnDict,outList,outFilename)\n",
    "        else:\n",
    "            continue\n",
    "    \n",
    "    print(ssnDict)"
   ]
  },
  {
   "cell_type": "code",
   "execution_count": 4,
   "metadata": {
    "scrolled": true
   },
   "outputs": [],
   "source": [
    "def doJPGPNG(file,isPNG,ssnRE):\n",
    "   \n",
    "    ima = Image.open(file)\n",
    "\n",
    "    f = lambda x,y,z: (int(z), int(y/x*z))\n",
    "    nWidth,nHeight = f(ima.size[0],ima.size[1],1500)\n",
    "    image = ima.resize((nWidth, nHeight), Image.LANCZOS) \n",
    "\n",
    "    if not isPNG:\n",
    "        with BytesIO() as f:\n",
    "            image.save(f, format='PNG')\n",
    "            f.seek(0)\n",
    "            image = Image.open(f).convert('RGB')\n",
    "    else:\n",
    "            image = image.convert('RBG')\n",
    "    \n",
    "    #OpenCV Preprocessing to make img grayscale, make bg black and foreground/text white\n",
    "    open_cv_image = numpy.array(image) \n",
    "    open_cv_image = open_cv_image[:, :, ::-1].copy() \n",
    "    gray = cv2.cvtColor(open_cv_image, cv2.COLOR_BGR2GRAY)\n",
    "    gray = cv2.bitwise_not(gray)\n",
    "    thresh = cv2.threshold(gray, 0, 255, cv2.THRESH_BINARY | cv2.THRESH_OTSU)[1]\n",
    "    \n",
    "    #Uncomment if you want to see the image\n",
    "    #cv2.imshow('image',thresh)\n",
    "    #cv2.waitKey(0)\n",
    "    #cv2.destroyAllWindows()\n",
    "\n",
    "    #Tesseract find text from img\n",
    "    pytesseract.pytesseract.tesseract_cmd = 'C:\\\\Program Files (x86)\\\\Tesseract-OCR\\\\tesseract'\n",
    "    final = ssnRE.findall(pytesseract.image_to_string(thresh).replace(' ', ''))\n",
    "    final = formatSSN(final)\n",
    "\n",
    "    return (final,os.path.basename(file))"
   ]
  },
  {
   "cell_type": "code",
   "execution_count": 5,
   "metadata": {},
   "outputs": [],
   "source": [
    "def doPDF(file,ssnRE):\n",
    "    pdfFileObj = open(file, 'rb')\n",
    "    pdfReader = PyPDF2.PdfFileReader(pdfFileObj)\n",
    "    pdfReader.numPages\n",
    "\n",
    "    allTxt = \"\"\n",
    "\n",
    "    for i in range(pdfReader.numPages):\n",
    "        allTxt+=pdfReader.getPage(i).extractText()\n",
    "        \n",
    "    final = ssnRE.findall(allTxt.replace('\\n', '').replace('\\r', ''))\n",
    "    final = formatSSN(final)\n",
    "    \n",
    "    return (final,os.path.basename(file))"
   ]
  },
  {
   "cell_type": "code",
   "execution_count": 8,
   "metadata": {},
   "outputs": [
    {
     "name": "stdout",
     "output_type": "stream",
     "text": [
      "{'400-00-4060': ['four.jpg'], '444-44-4444': ['one.jpg'], '155-44-1234': ['TestDoc SSN.pdf'], '123-43-6543': ['TestDoc SSN.pdf'], '123-45-6789': ['TestDoc SSN.pdf']}\n"
     ]
    }
   ],
   "source": [
    "passFolder('C:\\\\Users\\\\scasella\\\\Desktop\\\\SSN Project')"
   ]
  }
 ],
 "metadata": {
  "kernelspec": {
   "display_name": "Python 3",
   "language": "python",
   "name": "python3"
  },
  "language_info": {
   "codemirror_mode": {
    "name": "ipython",
    "version": 3
   },
   "file_extension": ".py",
   "mimetype": "text/x-python",
   "name": "python",
   "nbconvert_exporter": "python",
   "pygments_lexer": "ipython3",
   "version": "3.6.4"
  }
 },
 "nbformat": 4,
 "nbformat_minor": 2
}
